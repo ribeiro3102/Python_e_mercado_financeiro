{
 "cells": [
  {
   "cell_type": "markdown",
   "id": "893a748b",
   "metadata": {},
   "source": [
    "### 8.1 COMANDOS INTRODUTÓRIOS NA BIBLIOTECA PANDAS"
   ]
  },
  {
   "cell_type": "code",
   "execution_count": 1,
   "id": "34bcfe05",
   "metadata": {},
   "outputs": [
    {
     "name": "stdout",
     "output_type": "stream",
     "text": [
      "0     2.1\n",
      "1     7.3\n",
      "2     5.4\n",
      "3    10.9\n",
      "4     6.0\n",
      "dtype: float64\n"
     ]
    }
   ],
   "source": [
    "import pandas as pd\n",
    "\n",
    "preco = pd.Series([2.1,7.3,5.4,10.9,6])\n",
    "\n",
    "print(preco)"
   ]
  },
  {
   "cell_type": "code",
   "execution_count": 2,
   "id": "c5df14df",
   "metadata": {},
   "outputs": [
    {
     "data": {
      "text/plain": [
       "RangeIndex(start=0, stop=5, step=1)"
      ]
     },
     "execution_count": 2,
     "metadata": {},
     "output_type": "execute_result"
    }
   ],
   "source": [
    "preco.index"
   ]
  },
  {
   "cell_type": "code",
   "execution_count": 3,
   "id": "de1a4191",
   "metadata": {},
   "outputs": [
    {
     "name": "stdout",
     "output_type": "stream",
     "text": [
      "Lápis          2.1\n",
      "Caneta         7.3\n",
      "Borracha       5.4\n",
      "Grampeador    10.9\n",
      "Apontador      6.0\n",
      "dtype: float64\n"
     ]
    }
   ],
   "source": [
    "import pandas as pd\n",
    "\n",
    "preco = pd.Series([2.1,7.3,5.4,10.9,6],\n",
    "                 index=['Lápis', 'Caneta','Borracha','Grampeador','Apontador'])\n",
    "\n",
    "print(preco)"
   ]
  },
  {
   "cell_type": "code",
   "execution_count": 4,
   "id": "9a086e4a",
   "metadata": {},
   "outputs": [
    {
     "name": "stdout",
     "output_type": "stream",
     "text": [
      "2.1\n",
      "10.9\n",
      "6.340000000000001\n",
      "3.189514069572354\n"
     ]
    },
    {
     "data": {
      "text/plain": [
       "count     5.000000\n",
       "mean      6.340000\n",
       "std       3.189514\n",
       "min       2.100000\n",
       "25%       5.400000\n",
       "50%       6.000000\n",
       "75%       7.300000\n",
       "max      10.900000\n",
       "dtype: float64"
      ]
     },
     "execution_count": 4,
     "metadata": {},
     "output_type": "execute_result"
    }
   ],
   "source": [
    "print(preco['Lápis'])\n",
    "print(preco['Grampeador'])\n",
    "print(preco.mean())\n",
    "print(preco.std())\n",
    "preco.describe()\n"
   ]
  },
  {
   "cell_type": "code",
   "execution_count": 6,
   "id": "c888cdab",
   "metadata": {},
   "outputs": [
    {
     "name": "stdout",
     "output_type": "stream",
     "text": [
      "Lápis           4.41\n",
      "Caneta         53.29\n",
      "Borracha       29.16\n",
      "Grampeador    118.81\n",
      "Apontador      36.00\n",
      "dtype: float64\n",
      "+++++++++++++++++++++++++++++++++++++\n",
      "Lápis         0.741937\n",
      "Caneta        1.987874\n",
      "Borracha      1.686399\n",
      "Grampeador    2.388763\n",
      "Apontador     1.791759\n",
      "dtype: float64\n"
     ]
    }
   ],
   "source": [
    "import pandas as pd\n",
    "import numpy as np\n",
    "\n",
    "preco = pd.Series([2.1,7.3,5.4,10.9,6],\n",
    "                 index=['Lápis', 'Caneta','Borracha','Grampeador','Apontador'])\n",
    "\n",
    "quadrado = preco**2\n",
    "print(quadrado)\n",
    "\n",
    "print(\"+++++++++++++++++++++++++++++++++++++\")\n",
    "precoLog = np.log(preco)\n",
    "print(precoLog)"
   ]
  },
  {
   "cell_type": "markdown",
   "id": "1f82ecf4",
   "metadata": {},
   "source": [
    "### 8.2 ESTRUTURA DO DATAFRAME"
   ]
  },
  {
   "cell_type": "code",
   "execution_count": 7,
   "id": "1073473c",
   "metadata": {},
   "outputs": [
    {
     "name": "stdout",
     "output_type": "stream",
     "text": [
      "      Produto  Preco  Qtde  Custo\n",
      "0       Lápis    2.1    10    0.5\n",
      "1      Caneta    7.3    15    1.3\n",
      "2    Borracha    5.4     3    0.7\n",
      "3  Grampeador   10.9     2    2.0\n",
      "4   Apontador    6.0    20    2.0\n"
     ]
    }
   ],
   "source": [
    "import pandas as pd\n",
    "\n",
    "preco = pd.DataFrame({'Produto':['Lápis', 'Caneta','Borracha','Grampeador','Apontador'],\n",
    "                     'Preco':[2.1,7.3,5.4,10.9,6],\n",
    "                     'Qtde':[10,15,3,2,20],\n",
    "                     'Custo':[0.5,1.3,0.7,2,2]})\n",
    "\n",
    "print(preco)"
   ]
  },
  {
   "cell_type": "code",
   "execution_count": 12,
   "id": "5d3bfcad",
   "metadata": {},
   "outputs": [
    {
     "data": {
      "text/plain": [
       "Index(['Produto', 'Preco', 'Qtde', 'Custo'], dtype='object')"
      ]
     },
     "execution_count": 12,
     "metadata": {},
     "output_type": "execute_result"
    }
   ],
   "source": [
    "preco.columns"
   ]
  },
  {
   "cell_type": "code",
   "execution_count": 11,
   "id": "2f14505c",
   "metadata": {},
   "outputs": [
    {
     "data": {
      "text/plain": [
       "0         Lápis\n",
       "1        Caneta\n",
       "2      Borracha\n",
       "3    Grampeador\n",
       "4     Apontador\n",
       "Name: Produto, dtype: object"
      ]
     },
     "execution_count": 11,
     "metadata": {},
     "output_type": "execute_result"
    }
   ],
   "source": [
    "preco['Produto']"
   ]
  },
  {
   "cell_type": "code",
   "execution_count": 13,
   "id": "a3b8bd53",
   "metadata": {},
   "outputs": [
    {
     "data": {
      "text/html": [
       "<div>\n",
       "<style scoped>\n",
       "    .dataframe tbody tr th:only-of-type {\n",
       "        vertical-align: middle;\n",
       "    }\n",
       "\n",
       "    .dataframe tbody tr th {\n",
       "        vertical-align: top;\n",
       "    }\n",
       "\n",
       "    .dataframe thead th {\n",
       "        text-align: right;\n",
       "    }\n",
       "</style>\n",
       "<table border=\"1\" class=\"dataframe\">\n",
       "  <thead>\n",
       "    <tr style=\"text-align: right;\">\n",
       "      <th></th>\n",
       "      <th>Produto</th>\n",
       "      <th>Preco</th>\n",
       "      <th>Qtde</th>\n",
       "      <th>Custo</th>\n",
       "    </tr>\n",
       "  </thead>\n",
       "  <tbody>\n",
       "    <tr>\n",
       "      <th>4</th>\n",
       "      <td>Apontador</td>\n",
       "      <td>6.0</td>\n",
       "      <td>20</td>\n",
       "      <td>2.0</td>\n",
       "    </tr>\n",
       "    <tr>\n",
       "      <th>2</th>\n",
       "      <td>Borracha</td>\n",
       "      <td>5.4</td>\n",
       "      <td>3</td>\n",
       "      <td>0.7</td>\n",
       "    </tr>\n",
       "    <tr>\n",
       "      <th>1</th>\n",
       "      <td>Caneta</td>\n",
       "      <td>7.3</td>\n",
       "      <td>15</td>\n",
       "      <td>1.3</td>\n",
       "    </tr>\n",
       "    <tr>\n",
       "      <th>3</th>\n",
       "      <td>Grampeador</td>\n",
       "      <td>10.9</td>\n",
       "      <td>2</td>\n",
       "      <td>2.0</td>\n",
       "    </tr>\n",
       "    <tr>\n",
       "      <th>0</th>\n",
       "      <td>Lápis</td>\n",
       "      <td>2.1</td>\n",
       "      <td>10</td>\n",
       "      <td>0.5</td>\n",
       "    </tr>\n",
       "  </tbody>\n",
       "</table>\n",
       "</div>"
      ],
      "text/plain": [
       "      Produto  Preco  Qtde  Custo\n",
       "4   Apontador    6.0    20    2.0\n",
       "2    Borracha    5.4     3    0.7\n",
       "1      Caneta    7.3    15    1.3\n",
       "3  Grampeador   10.9     2    2.0\n",
       "0       Lápis    2.1    10    0.5"
      ]
     },
     "execution_count": 13,
     "metadata": {},
     "output_type": "execute_result"
    }
   ],
   "source": [
    "preco.sort_values(by='Produto')"
   ]
  },
  {
   "cell_type": "code",
   "execution_count": 14,
   "id": "72b5ba2b",
   "metadata": {},
   "outputs": [
    {
     "data": {
      "text/html": [
       "<div>\n",
       "<style scoped>\n",
       "    .dataframe tbody tr th:only-of-type {\n",
       "        vertical-align: middle;\n",
       "    }\n",
       "\n",
       "    .dataframe tbody tr th {\n",
       "        vertical-align: top;\n",
       "    }\n",
       "\n",
       "    .dataframe thead th {\n",
       "        text-align: right;\n",
       "    }\n",
       "</style>\n",
       "<table border=\"1\" class=\"dataframe\">\n",
       "  <thead>\n",
       "    <tr style=\"text-align: right;\">\n",
       "      <th></th>\n",
       "      <th>Produto</th>\n",
       "      <th>Preco</th>\n",
       "      <th>Qtde</th>\n",
       "      <th>Custo</th>\n",
       "    </tr>\n",
       "  </thead>\n",
       "  <tbody>\n",
       "    <tr>\n",
       "      <th>0</th>\n",
       "      <td>Lápis</td>\n",
       "      <td>2.1</td>\n",
       "      <td>10</td>\n",
       "      <td>0.5</td>\n",
       "    </tr>\n",
       "    <tr>\n",
       "      <th>2</th>\n",
       "      <td>Borracha</td>\n",
       "      <td>5.4</td>\n",
       "      <td>3</td>\n",
       "      <td>0.7</td>\n",
       "    </tr>\n",
       "    <tr>\n",
       "      <th>1</th>\n",
       "      <td>Caneta</td>\n",
       "      <td>7.3</td>\n",
       "      <td>15</td>\n",
       "      <td>1.3</td>\n",
       "    </tr>\n",
       "    <tr>\n",
       "      <th>3</th>\n",
       "      <td>Grampeador</td>\n",
       "      <td>10.9</td>\n",
       "      <td>2</td>\n",
       "      <td>2.0</td>\n",
       "    </tr>\n",
       "    <tr>\n",
       "      <th>4</th>\n",
       "      <td>Apontador</td>\n",
       "      <td>6.0</td>\n",
       "      <td>20</td>\n",
       "      <td>2.0</td>\n",
       "    </tr>\n",
       "  </tbody>\n",
       "</table>\n",
       "</div>"
      ],
      "text/plain": [
       "      Produto  Preco  Qtde  Custo\n",
       "0       Lápis    2.1    10    0.5\n",
       "2    Borracha    5.4     3    0.7\n",
       "1      Caneta    7.3    15    1.3\n",
       "3  Grampeador   10.9     2    2.0\n",
       "4   Apontador    6.0    20    2.0"
      ]
     },
     "execution_count": 14,
     "metadata": {},
     "output_type": "execute_result"
    }
   ],
   "source": [
    "preco.sort_values(by='Custo')"
   ]
  },
  {
   "cell_type": "code",
   "execution_count": 15,
   "id": "f9bbf995",
   "metadata": {},
   "outputs": [
    {
     "data": {
      "text/html": [
       "<div>\n",
       "<style scoped>\n",
       "    .dataframe tbody tr th:only-of-type {\n",
       "        vertical-align: middle;\n",
       "    }\n",
       "\n",
       "    .dataframe tbody tr th {\n",
       "        vertical-align: top;\n",
       "    }\n",
       "\n",
       "    .dataframe thead th {\n",
       "        text-align: right;\n",
       "    }\n",
       "</style>\n",
       "<table border=\"1\" class=\"dataframe\">\n",
       "  <thead>\n",
       "    <tr style=\"text-align: right;\">\n",
       "      <th></th>\n",
       "      <th>Produto</th>\n",
       "      <th>Preco</th>\n",
       "      <th>Qtde</th>\n",
       "      <th>Custo</th>\n",
       "    </tr>\n",
       "  </thead>\n",
       "  <tbody>\n",
       "    <tr>\n",
       "      <th>3</th>\n",
       "      <td>Grampeador</td>\n",
       "      <td>10.9</td>\n",
       "      <td>2</td>\n",
       "      <td>2.0</td>\n",
       "    </tr>\n",
       "    <tr>\n",
       "      <th>4</th>\n",
       "      <td>Apontador</td>\n",
       "      <td>6.0</td>\n",
       "      <td>20</td>\n",
       "      <td>2.0</td>\n",
       "    </tr>\n",
       "    <tr>\n",
       "      <th>1</th>\n",
       "      <td>Caneta</td>\n",
       "      <td>7.3</td>\n",
       "      <td>15</td>\n",
       "      <td>1.3</td>\n",
       "    </tr>\n",
       "    <tr>\n",
       "      <th>2</th>\n",
       "      <td>Borracha</td>\n",
       "      <td>5.4</td>\n",
       "      <td>3</td>\n",
       "      <td>0.7</td>\n",
       "    </tr>\n",
       "    <tr>\n",
       "      <th>0</th>\n",
       "      <td>Lápis</td>\n",
       "      <td>2.1</td>\n",
       "      <td>10</td>\n",
       "      <td>0.5</td>\n",
       "    </tr>\n",
       "  </tbody>\n",
       "</table>\n",
       "</div>"
      ],
      "text/plain": [
       "      Produto  Preco  Qtde  Custo\n",
       "3  Grampeador   10.9     2    2.0\n",
       "4   Apontador    6.0    20    2.0\n",
       "1      Caneta    7.3    15    1.3\n",
       "2    Borracha    5.4     3    0.7\n",
       "0       Lápis    2.1    10    0.5"
      ]
     },
     "execution_count": 15,
     "metadata": {},
     "output_type": "execute_result"
    }
   ],
   "source": [
    "preco.sort_values(by='Custo', ascending=False)"
   ]
  },
  {
   "cell_type": "markdown",
   "id": "ad213e9e",
   "metadata": {},
   "source": [
    "### 8.3 LÓGICA CONDICIONAL NO DATAFRAME"
   ]
  },
  {
   "cell_type": "code",
   "execution_count": 16,
   "id": "144b9031",
   "metadata": {},
   "outputs": [
    {
     "data": {
      "text/html": [
       "<div>\n",
       "<style scoped>\n",
       "    .dataframe tbody tr th:only-of-type {\n",
       "        vertical-align: middle;\n",
       "    }\n",
       "\n",
       "    .dataframe tbody tr th {\n",
       "        vertical-align: top;\n",
       "    }\n",
       "\n",
       "    .dataframe thead th {\n",
       "        text-align: right;\n",
       "    }\n",
       "</style>\n",
       "<table border=\"1\" class=\"dataframe\">\n",
       "  <thead>\n",
       "    <tr style=\"text-align: right;\">\n",
       "      <th></th>\n",
       "      <th>Produto</th>\n",
       "      <th>Preco</th>\n",
       "      <th>Qtde</th>\n",
       "      <th>Custo</th>\n",
       "    </tr>\n",
       "  </thead>\n",
       "  <tbody>\n",
       "    <tr>\n",
       "      <th>1</th>\n",
       "      <td>Caneta</td>\n",
       "      <td>7.3</td>\n",
       "      <td>15</td>\n",
       "      <td>1.3</td>\n",
       "    </tr>\n",
       "    <tr>\n",
       "      <th>3</th>\n",
       "      <td>Grampeador</td>\n",
       "      <td>10.9</td>\n",
       "      <td>2</td>\n",
       "      <td>2.0</td>\n",
       "    </tr>\n",
       "    <tr>\n",
       "      <th>4</th>\n",
       "      <td>Apontador</td>\n",
       "      <td>6.0</td>\n",
       "      <td>20</td>\n",
       "      <td>2.0</td>\n",
       "    </tr>\n",
       "  </tbody>\n",
       "</table>\n",
       "</div>"
      ],
      "text/plain": [
       "      Produto  Preco  Qtde  Custo\n",
       "1      Caneta    7.3    15    1.3\n",
       "3  Grampeador   10.9     2    2.0\n",
       "4   Apontador    6.0    20    2.0"
      ]
     },
     "execution_count": 16,
     "metadata": {},
     "output_type": "execute_result"
    }
   ],
   "source": [
    "preco[preco['Custo']>1.2]"
   ]
  },
  {
   "cell_type": "code",
   "execution_count": 18,
   "id": "c2056adc",
   "metadata": {},
   "outputs": [
    {
     "data": {
      "text/html": [
       "<div>\n",
       "<style scoped>\n",
       "    .dataframe tbody tr th:only-of-type {\n",
       "        vertical-align: middle;\n",
       "    }\n",
       "\n",
       "    .dataframe tbody tr th {\n",
       "        vertical-align: top;\n",
       "    }\n",
       "\n",
       "    .dataframe thead th {\n",
       "        text-align: right;\n",
       "    }\n",
       "</style>\n",
       "<table border=\"1\" class=\"dataframe\">\n",
       "  <thead>\n",
       "    <tr style=\"text-align: right;\">\n",
       "      <th></th>\n",
       "      <th>Produto</th>\n",
       "      <th>Preco</th>\n",
       "      <th>Qtde</th>\n",
       "      <th>Custo</th>\n",
       "    </tr>\n",
       "  </thead>\n",
       "  <tbody>\n",
       "    <tr>\n",
       "      <th>1</th>\n",
       "      <td>Caneta</td>\n",
       "      <td>7.3</td>\n",
       "      <td>15</td>\n",
       "      <td>1.3</td>\n",
       "    </tr>\n",
       "    <tr>\n",
       "      <th>4</th>\n",
       "      <td>Apontador</td>\n",
       "      <td>6.0</td>\n",
       "      <td>20</td>\n",
       "      <td>2.0</td>\n",
       "    </tr>\n",
       "  </tbody>\n",
       "</table>\n",
       "</div>"
      ],
      "text/plain": [
       "     Produto  Preco  Qtde  Custo\n",
       "1     Caneta    7.3    15    1.3\n",
       "4  Apontador    6.0    20    2.0"
      ]
     },
     "execution_count": 18,
     "metadata": {},
     "output_type": "execute_result"
    }
   ],
   "source": [
    "preco[(preco['Custo']>1.2) & (preco['Qtde']>10)]"
   ]
  },
  {
   "cell_type": "markdown",
   "id": "3094f874",
   "metadata": {},
   "source": [
    "### TIPOS DE VISUALIZAÇÃO DE TABELAS NO DATAFRAME"
   ]
  },
  {
   "cell_type": "code",
   "execution_count": 19,
   "id": "82ffcea5",
   "metadata": {},
   "outputs": [
    {
     "data": {
      "text/html": [
       "<div>\n",
       "<style scoped>\n",
       "    .dataframe tbody tr th:only-of-type {\n",
       "        vertical-align: middle;\n",
       "    }\n",
       "\n",
       "    .dataframe tbody tr th {\n",
       "        vertical-align: top;\n",
       "    }\n",
       "\n",
       "    .dataframe thead th {\n",
       "        text-align: right;\n",
       "    }\n",
       "</style>\n",
       "<table border=\"1\" class=\"dataframe\">\n",
       "  <thead>\n",
       "    <tr style=\"text-align: right;\">\n",
       "      <th></th>\n",
       "      <th>Produto</th>\n",
       "      <th>Preco</th>\n",
       "      <th>Qtde</th>\n",
       "      <th>Custo</th>\n",
       "    </tr>\n",
       "  </thead>\n",
       "  <tbody>\n",
       "    <tr>\n",
       "      <th>0</th>\n",
       "      <td>Lápis</td>\n",
       "      <td>2.1</td>\n",
       "      <td>10</td>\n",
       "      <td>0.5</td>\n",
       "    </tr>\n",
       "    <tr>\n",
       "      <th>1</th>\n",
       "      <td>Caneta</td>\n",
       "      <td>7.3</td>\n",
       "      <td>15</td>\n",
       "      <td>1.3</td>\n",
       "    </tr>\n",
       "    <tr>\n",
       "      <th>2</th>\n",
       "      <td>Borracha</td>\n",
       "      <td>5.4</td>\n",
       "      <td>3</td>\n",
       "      <td>0.7</td>\n",
       "    </tr>\n",
       "    <tr>\n",
       "      <th>3</th>\n",
       "      <td>Grampeador</td>\n",
       "      <td>10.9</td>\n",
       "      <td>2</td>\n",
       "      <td>2.0</td>\n",
       "    </tr>\n",
       "    <tr>\n",
       "      <th>4</th>\n",
       "      <td>Apontador</td>\n",
       "      <td>6.0</td>\n",
       "      <td>20</td>\n",
       "      <td>2.0</td>\n",
       "    </tr>\n",
       "  </tbody>\n",
       "</table>\n",
       "</div>"
      ],
      "text/plain": [
       "      Produto  Preco  Qtde  Custo\n",
       "0       Lápis    2.1    10    0.5\n",
       "1      Caneta    7.3    15    1.3\n",
       "2    Borracha    5.4     3    0.7\n",
       "3  Grampeador   10.9     2    2.0\n",
       "4   Apontador    6.0    20    2.0"
      ]
     },
     "execution_count": 19,
     "metadata": {},
     "output_type": "execute_result"
    }
   ],
   "source": [
    "preco.head()"
   ]
  },
  {
   "cell_type": "code",
   "execution_count": 20,
   "id": "1ee30fe0",
   "metadata": {},
   "outputs": [
    {
     "data": {
      "text/html": [
       "<div>\n",
       "<style scoped>\n",
       "    .dataframe tbody tr th:only-of-type {\n",
       "        vertical-align: middle;\n",
       "    }\n",
       "\n",
       "    .dataframe tbody tr th {\n",
       "        vertical-align: top;\n",
       "    }\n",
       "\n",
       "    .dataframe thead th {\n",
       "        text-align: right;\n",
       "    }\n",
       "</style>\n",
       "<table border=\"1\" class=\"dataframe\">\n",
       "  <thead>\n",
       "    <tr style=\"text-align: right;\">\n",
       "      <th></th>\n",
       "      <th>Produto</th>\n",
       "      <th>Preco</th>\n",
       "      <th>Qtde</th>\n",
       "      <th>Custo</th>\n",
       "    </tr>\n",
       "  </thead>\n",
       "  <tbody>\n",
       "    <tr>\n",
       "      <th>0</th>\n",
       "      <td>Lápis</td>\n",
       "      <td>2.1</td>\n",
       "      <td>10</td>\n",
       "      <td>0.5</td>\n",
       "    </tr>\n",
       "    <tr>\n",
       "      <th>1</th>\n",
       "      <td>Caneta</td>\n",
       "      <td>7.3</td>\n",
       "      <td>15</td>\n",
       "      <td>1.3</td>\n",
       "    </tr>\n",
       "    <tr>\n",
       "      <th>2</th>\n",
       "      <td>Borracha</td>\n",
       "      <td>5.4</td>\n",
       "      <td>3</td>\n",
       "      <td>0.7</td>\n",
       "    </tr>\n",
       "    <tr>\n",
       "      <th>3</th>\n",
       "      <td>Grampeador</td>\n",
       "      <td>10.9</td>\n",
       "      <td>2</td>\n",
       "      <td>2.0</td>\n",
       "    </tr>\n",
       "    <tr>\n",
       "      <th>4</th>\n",
       "      <td>Apontador</td>\n",
       "      <td>6.0</td>\n",
       "      <td>20</td>\n",
       "      <td>2.0</td>\n",
       "    </tr>\n",
       "  </tbody>\n",
       "</table>\n",
       "</div>"
      ],
      "text/plain": [
       "      Produto  Preco  Qtde  Custo\n",
       "0       Lápis    2.1    10    0.5\n",
       "1      Caneta    7.3    15    1.3\n",
       "2    Borracha    5.4     3    0.7\n",
       "3  Grampeador   10.9     2    2.0\n",
       "4   Apontador    6.0    20    2.0"
      ]
     },
     "execution_count": 20,
     "metadata": {},
     "output_type": "execute_result"
    }
   ],
   "source": [
    "preco.tail()"
   ]
  },
  {
   "cell_type": "code",
   "execution_count": 21,
   "id": "28c50d70",
   "metadata": {},
   "outputs": [
    {
     "data": {
      "text/html": [
       "<div>\n",
       "<style scoped>\n",
       "    .dataframe tbody tr th:only-of-type {\n",
       "        vertical-align: middle;\n",
       "    }\n",
       "\n",
       "    .dataframe tbody tr th {\n",
       "        vertical-align: top;\n",
       "    }\n",
       "\n",
       "    .dataframe thead th {\n",
       "        text-align: right;\n",
       "    }\n",
       "</style>\n",
       "<table border=\"1\" class=\"dataframe\">\n",
       "  <thead>\n",
       "    <tr style=\"text-align: right;\">\n",
       "      <th></th>\n",
       "      <th>Produto</th>\n",
       "      <th>Preco</th>\n",
       "      <th>Qtde</th>\n",
       "      <th>Custo</th>\n",
       "    </tr>\n",
       "  </thead>\n",
       "  <tbody>\n",
       "    <tr>\n",
       "      <th>0</th>\n",
       "      <td>Lápis</td>\n",
       "      <td>2.1</td>\n",
       "      <td>10</td>\n",
       "      <td>0.5</td>\n",
       "    </tr>\n",
       "    <tr>\n",
       "      <th>1</th>\n",
       "      <td>Caneta</td>\n",
       "      <td>7.3</td>\n",
       "      <td>15</td>\n",
       "      <td>1.3</td>\n",
       "    </tr>\n",
       "  </tbody>\n",
       "</table>\n",
       "</div>"
      ],
      "text/plain": [
       "  Produto  Preco  Qtde  Custo\n",
       "0   Lápis    2.1    10    0.5\n",
       "1  Caneta    7.3    15    1.3"
      ]
     },
     "execution_count": 21,
     "metadata": {},
     "output_type": "execute_result"
    }
   ],
   "source": [
    "preco.head(n=2)"
   ]
  },
  {
   "cell_type": "code",
   "execution_count": 22,
   "id": "e6daa9ac",
   "metadata": {},
   "outputs": [
    {
     "data": {
      "text/html": [
       "<div>\n",
       "<style scoped>\n",
       "    .dataframe tbody tr th:only-of-type {\n",
       "        vertical-align: middle;\n",
       "    }\n",
       "\n",
       "    .dataframe tbody tr th {\n",
       "        vertical-align: top;\n",
       "    }\n",
       "\n",
       "    .dataframe thead th {\n",
       "        text-align: right;\n",
       "    }\n",
       "</style>\n",
       "<table border=\"1\" class=\"dataframe\">\n",
       "  <thead>\n",
       "    <tr style=\"text-align: right;\">\n",
       "      <th></th>\n",
       "      <th>Produto</th>\n",
       "      <th>Preco</th>\n",
       "      <th>Qtde</th>\n",
       "      <th>Custo</th>\n",
       "    </tr>\n",
       "  </thead>\n",
       "  <tbody>\n",
       "    <tr>\n",
       "      <th>2</th>\n",
       "      <td>Borracha</td>\n",
       "      <td>5.4</td>\n",
       "      <td>3</td>\n",
       "      <td>0.7</td>\n",
       "    </tr>\n",
       "    <tr>\n",
       "      <th>3</th>\n",
       "      <td>Grampeador</td>\n",
       "      <td>10.9</td>\n",
       "      <td>2</td>\n",
       "      <td>2.0</td>\n",
       "    </tr>\n",
       "    <tr>\n",
       "      <th>4</th>\n",
       "      <td>Apontador</td>\n",
       "      <td>6.0</td>\n",
       "      <td>20</td>\n",
       "      <td>2.0</td>\n",
       "    </tr>\n",
       "  </tbody>\n",
       "</table>\n",
       "</div>"
      ],
      "text/plain": [
       "      Produto  Preco  Qtde  Custo\n",
       "2    Borracha    5.4     3    0.7\n",
       "3  Grampeador   10.9     2    2.0\n",
       "4   Apontador    6.0    20    2.0"
      ]
     },
     "execution_count": 22,
     "metadata": {},
     "output_type": "execute_result"
    }
   ],
   "source": [
    "preco.tail(n=3)"
   ]
  },
  {
   "cell_type": "markdown",
   "id": "1bf768c0",
   "metadata": {},
   "source": [
    "### 8.5 IMPORTAÇÕES E EXPORTAÇÕES DE DADOS VIA DATAFRAME"
   ]
  },
  {
   "cell_type": "code",
   "execution_count": 23,
   "id": "bcb74c26",
   "metadata": {},
   "outputs": [
    {
     "name": "stdout",
     "output_type": "stream",
     "text": [
      "    Cliente  Compras  Vendas  Ativo  Preco_Atual\n",
      "0       212       10       5  PETR4        27.30\n",
      "1       175       50       1  USIM5         7.98\n",
      "2       327      100      90  PETR4        27.30\n",
      "3       196       58      58  GGBR4        14.80\n",
      "4       212       20       0  USIM5         7.98\n",
      "5       212       30      15  GGBR4        14.80\n",
      "6       175       30       3  PETR4        27.90\n",
      "7       212       50      40  USIM5         7.65\n",
      "8       175      100       3  GGBR4        15.60\n",
      "9       327      150      98  PETR4        26.80\n",
      "10      327      290     180  BBAS3        30.20\n",
      "11      327      500     200  PETR4        29.50\n",
      "12      212       30      30  USIM5         8.50\n",
      "13      175      100      80  ITUB4        36.27\n",
      "14      327       90      30  USIM5         8.30\n",
      "15      196      100      80  PETR4        30.40\n"
     ]
    }
   ],
   "source": [
    "import pandas as pd\n",
    "\n",
    "dados = pd.read_excel('dados/Book_Ex.xlsx', sheet_name='Planilha1')\n",
    "df = pd.DataFrame(dados)\n",
    "\n",
    "print(df)"
   ]
  },
  {
   "cell_type": "code",
   "execution_count": 26,
   "id": "1b4ea6c2",
   "metadata": {},
   "outputs": [
    {
     "data": {
      "text/plain": [
       "array(['PETR4', 'USIM5', 'GGBR4', 'BBAS3', 'ITUB4'], dtype=object)"
      ]
     },
     "execution_count": 26,
     "metadata": {},
     "output_type": "execute_result"
    }
   ],
   "source": [
    "# EXEMPLO 8.2\n",
    "x = df['Ativo'].unique()\n",
    "x"
   ]
  },
  {
   "cell_type": "code",
   "execution_count": 28,
   "id": "d938f6b2",
   "metadata": {},
   "outputs": [
    {
     "data": {
      "text/plain": [
       "PETR4    6\n",
       "USIM5    5\n",
       "GGBR4    3\n",
       "BBAS3    1\n",
       "ITUB4    1\n",
       "Name: Ativo, dtype: int64"
      ]
     },
     "execution_count": 28,
     "metadata": {},
     "output_type": "execute_result"
    }
   ],
   "source": [
    "y = df['Ativo'].value_counts()\n",
    "y"
   ]
  },
  {
   "cell_type": "code",
   "execution_count": 30,
   "id": "85bd7309",
   "metadata": {},
   "outputs": [
    {
     "data": {
      "text/plain": [
       "PETR4    0.3750\n",
       "USIM5    0.3125\n",
       "GGBR4    0.1875\n",
       "BBAS3    0.0625\n",
       "ITUB4    0.0625\n",
       "Name: Ativo, dtype: float64"
      ]
     },
     "execution_count": 30,
     "metadata": {},
     "output_type": "execute_result"
    }
   ],
   "source": [
    "z = df['Ativo'].value_counts(normalize=True)\n",
    "z"
   ]
  },
  {
   "cell_type": "code",
   "execution_count": 32,
   "id": "a8786227",
   "metadata": {},
   "outputs": [
    {
     "data": {
      "text/html": [
       "<div>\n",
       "<style scoped>\n",
       "    .dataframe tbody tr th:only-of-type {\n",
       "        vertical-align: middle;\n",
       "    }\n",
       "\n",
       "    .dataframe tbody tr th {\n",
       "        vertical-align: top;\n",
       "    }\n",
       "\n",
       "    .dataframe thead th {\n",
       "        text-align: right;\n",
       "    }\n",
       "</style>\n",
       "<table border=\"1\" class=\"dataframe\">\n",
       "  <thead>\n",
       "    <tr style=\"text-align: right;\">\n",
       "      <th></th>\n",
       "      <th>Cliente</th>\n",
       "      <th>Compras</th>\n",
       "      <th>Vendas</th>\n",
       "      <th>Preco_Atual</th>\n",
       "    </tr>\n",
       "    <tr>\n",
       "      <th>Ativo</th>\n",
       "      <th></th>\n",
       "      <th></th>\n",
       "      <th></th>\n",
       "      <th></th>\n",
       "    </tr>\n",
       "  </thead>\n",
       "  <tbody>\n",
       "    <tr>\n",
       "      <th>BBAS3</th>\n",
       "      <td>327.000000</td>\n",
       "      <td>290.000000</td>\n",
       "      <td>180.000000</td>\n",
       "      <td>30.200000</td>\n",
       "    </tr>\n",
       "    <tr>\n",
       "      <th>GGBR4</th>\n",
       "      <td>194.333333</td>\n",
       "      <td>62.666667</td>\n",
       "      <td>25.333333</td>\n",
       "      <td>15.066667</td>\n",
       "    </tr>\n",
       "    <tr>\n",
       "      <th>ITUB4</th>\n",
       "      <td>175.000000</td>\n",
       "      <td>100.000000</td>\n",
       "      <td>80.000000</td>\n",
       "      <td>36.270000</td>\n",
       "    </tr>\n",
       "    <tr>\n",
       "      <th>PETR4</th>\n",
       "      <td>260.666667</td>\n",
       "      <td>148.333333</td>\n",
       "      <td>79.333333</td>\n",
       "      <td>28.200000</td>\n",
       "    </tr>\n",
       "    <tr>\n",
       "      <th>USIM5</th>\n",
       "      <td>227.600000</td>\n",
       "      <td>48.000000</td>\n",
       "      <td>20.200000</td>\n",
       "      <td>8.082000</td>\n",
       "    </tr>\n",
       "  </tbody>\n",
       "</table>\n",
       "</div>"
      ],
      "text/plain": [
       "          Cliente     Compras      Vendas  Preco_Atual\n",
       "Ativo                                                 \n",
       "BBAS3  327.000000  290.000000  180.000000    30.200000\n",
       "GGBR4  194.333333   62.666667   25.333333    15.066667\n",
       "ITUB4  175.000000  100.000000   80.000000    36.270000\n",
       "PETR4  260.666667  148.333333   79.333333    28.200000\n",
       "USIM5  227.600000   48.000000   20.200000     8.082000"
      ]
     },
     "execution_count": 32,
     "metadata": {},
     "output_type": "execute_result"
    }
   ],
   "source": [
    "w = df.groupby('Ativo').mean()\n",
    "w"
   ]
  },
  {
   "cell_type": "code",
   "execution_count": 33,
   "id": "40b69233",
   "metadata": {},
   "outputs": [
    {
     "data": {
      "text/html": [
       "<div>\n",
       "<style scoped>\n",
       "    .dataframe tbody tr th:only-of-type {\n",
       "        vertical-align: middle;\n",
       "    }\n",
       "\n",
       "    .dataframe tbody tr th {\n",
       "        vertical-align: top;\n",
       "    }\n",
       "\n",
       "    .dataframe thead th {\n",
       "        text-align: right;\n",
       "    }\n",
       "</style>\n",
       "<table border=\"1\" class=\"dataframe\">\n",
       "  <thead>\n",
       "    <tr style=\"text-align: right;\">\n",
       "      <th></th>\n",
       "      <th>Compras</th>\n",
       "      <th>Vendas</th>\n",
       "      <th>Preco_Atual</th>\n",
       "    </tr>\n",
       "    <tr>\n",
       "      <th>Ativo</th>\n",
       "      <th></th>\n",
       "      <th></th>\n",
       "      <th></th>\n",
       "    </tr>\n",
       "  </thead>\n",
       "  <tbody>\n",
       "    <tr>\n",
       "      <th>BBAS3</th>\n",
       "      <td>290.000000</td>\n",
       "      <td>180.000000</td>\n",
       "      <td>30.200000</td>\n",
       "    </tr>\n",
       "    <tr>\n",
       "      <th>GGBR4</th>\n",
       "      <td>62.666667</td>\n",
       "      <td>25.333333</td>\n",
       "      <td>15.066667</td>\n",
       "    </tr>\n",
       "    <tr>\n",
       "      <th>ITUB4</th>\n",
       "      <td>100.000000</td>\n",
       "      <td>80.000000</td>\n",
       "      <td>36.270000</td>\n",
       "    </tr>\n",
       "    <tr>\n",
       "      <th>PETR4</th>\n",
       "      <td>148.333333</td>\n",
       "      <td>79.333333</td>\n",
       "      <td>28.200000</td>\n",
       "    </tr>\n",
       "    <tr>\n",
       "      <th>USIM5</th>\n",
       "      <td>48.000000</td>\n",
       "      <td>20.200000</td>\n",
       "      <td>8.082000</td>\n",
       "    </tr>\n",
       "  </tbody>\n",
       "</table>\n",
       "</div>"
      ],
      "text/plain": [
       "          Compras      Vendas  Preco_Atual\n",
       "Ativo                                     \n",
       "BBAS3  290.000000  180.000000    30.200000\n",
       "GGBR4   62.666667   25.333333    15.066667\n",
       "ITUB4  100.000000   80.000000    36.270000\n",
       "PETR4  148.333333   79.333333    28.200000\n",
       "USIM5   48.000000   20.200000     8.082000"
      ]
     },
     "execution_count": 33,
     "metadata": {},
     "output_type": "execute_result"
    }
   ],
   "source": [
    "w = w.drop(['Cliente'],axis=1)\n",
    "w"
   ]
  },
  {
   "cell_type": "code",
   "execution_count": 34,
   "id": "ed992f19",
   "metadata": {},
   "outputs": [],
   "source": [
    "w.to_excel(\"dados/Grupos.xlsx\")"
   ]
  },
  {
   "cell_type": "markdown",
   "id": "54d370d8",
   "metadata": {},
   "source": [
    "### 8.6 GRÁFICOS NA BIBLIOTECA PANDAS"
   ]
  },
  {
   "cell_type": "code",
   "execution_count": 35,
   "id": "4c50d938",
   "metadata": {},
   "outputs": [
    {
     "data": {
      "text/plain": [
       "<AxesSubplot:ylabel='Frequency'>"
      ]
     },
     "execution_count": 35,
     "metadata": {},
     "output_type": "execute_result"
    },
    {
     "data": {
      "image/png": "[encoded data removed]",
      "text/plain": [
       "<Figure size 640x480 with 1 Axes>"
      ]
     },
     "metadata": {},
     "output_type": "display_data"
    }
   ],
   "source": [
    "df['Compras'].plot.hist(bins=5, color='k')"
   ]
  },
  {
   "cell_type": "code",
   "execution_count": 36,
   "id": "46329c6c",
   "metadata": {},
   "outputs": [
    {
     "data": {
      "text/plain": [
       "<AxesSubplot:>"
      ]
     },
     "execution_count": 36,
     "metadata": {},
     "output_type": "execute_result"
    },
    {
     "data": {
      "image/png": "[encoded data removed]",
      "text/plain": [
       "<Figure size 640x480 with 1 Axes>"
      ]
     },
     "metadata": {},
     "output_type": "display_data"
    }
   ],
   "source": [
    "x=df['Ativo'].value_counts()\n",
    "x.plot.bar(color='k')"
   ]
  },
  {
   "cell_type": "code",
   "execution_count": 37,
   "id": "57e3845e",
   "metadata": {},
   "outputs": [
    {
     "data": {
      "text/plain": [
       "<AxesSubplot:>"
      ]
     },
     "execution_count": 37,
     "metadata": {},
     "output_type": "execute_result"
    },
    {
     "data": {
      "image/png": "[encoded data removed]",
      "text/plain": [
       "<Figure size 640x480 with 1 Axes>"
      ]
     },
     "metadata": {},
     "output_type": "display_data"
    }
   ],
   "source": [
    "w=df['Ativo'].value_counts()\n",
    "w.plot.barh(color='k')"
   ]
  },
  {
   "cell_type": "code",
   "execution_count": 39,
   "id": "3bc9fe19",
   "metadata": {},
   "outputs": [
    {
     "data": {
      "text/plain": [
       "<AxesSubplot:xlabel='Compras', ylabel='Vendas'>"
      ]
     },
     "execution_count": 39,
     "metadata": {},
     "output_type": "execute_result"
    },
    {
     "data": {
      "image/png": "[encoded data removed]",
      "text/plain": [
       "<Figure size 640x480 with 1 Axes>"
      ]
     },
     "metadata": {},
     "output_type": "display_data"
    }
   ],
   "source": [
    "df.plot.scatter(x='Compras',y='Vendas',c='black')"
   ]
  },
  {
   "cell_type": "code",
   "execution_count": 40,
   "id": "87e0f87d",
   "metadata": {},
   "outputs": [
    {
     "data": {
      "text/plain": [
       "<AxesSubplot:ylabel='Ativo'>"
      ]
     },
     "execution_count": 40,
     "metadata": {},
     "output_type": "execute_result"
    },
    {
     "data": {
      "image/png": "[encoded data removed]",
      "text/plain": [
       "<Figure size 640x480 with 1 Axes>"
      ]
     },
     "metadata": {},
     "output_type": "display_data"
    }
   ],
   "source": [
    "df['Ativo'].value_counts().plot.pie()"
   ]
  },
  {
   "cell_type": "code",
   "execution_count": 41,
   "id": "7c60e5ec",
   "metadata": {},
   "outputs": [
    {
     "data": {
      "text/plain": [
       "<AxesSubplot:>"
      ]
     },
     "execution_count": 41,
     "metadata": {},
     "output_type": "execute_result"
    },
    {
     "data": {
      "image/png": "[encoded data removed]",
      "text/plain": [
       "<Figure size 640x480 with 1 Axes>"
      ]
     },
     "metadata": {},
     "output_type": "display_data"
    }
   ],
   "source": [
    "df['Preco_Atual'].plot.line(color='k')"
   ]
  },
  {
   "cell_type": "markdown",
   "id": "8a3d7647",
   "metadata": {},
   "source": [
    "### CONSTRUINDO TABELAS AUTOMÁTICAS NO DATAFRAME"
   ]
  },
  {
   "cell_type": "code",
   "execution_count": 42,
   "id": "5de0f8fe",
   "metadata": {},
   "outputs": [
    {
     "data": {
      "text/html": [
       "<div>\n",
       "<style scoped>\n",
       "    .dataframe tbody tr th:only-of-type {\n",
       "        vertical-align: middle;\n",
       "    }\n",
       "\n",
       "    .dataframe tbody tr th {\n",
       "        vertical-align: top;\n",
       "    }\n",
       "\n",
       "    .dataframe thead th {\n",
       "        text-align: right;\n",
       "    }\n",
       "</style>\n",
       "<table border=\"1\" class=\"dataframe\">\n",
       "  <thead>\n",
       "    <tr style=\"text-align: right;\">\n",
       "      <th></th>\n",
       "      <th>x</th>\n",
       "      <th>y</th>\n",
       "    </tr>\n",
       "  </thead>\n",
       "  <tbody>\n",
       "    <tr>\n",
       "      <th>0</th>\n",
       "      <td>2</td>\n",
       "      <td>6</td>\n",
       "    </tr>\n",
       "    <tr>\n",
       "      <th>1</th>\n",
       "      <td>2</td>\n",
       "      <td>6</td>\n",
       "    </tr>\n",
       "    <tr>\n",
       "      <th>2</th>\n",
       "      <td>2</td>\n",
       "      <td>6</td>\n",
       "    </tr>\n",
       "  </tbody>\n",
       "</table>\n",
       "</div>"
      ],
      "text/plain": [
       "   x  y\n",
       "0  2  6\n",
       "1  2  6\n",
       "2  2  6"
      ]
     },
     "execution_count": 42,
     "metadata": {},
     "output_type": "execute_result"
    }
   ],
   "source": [
    "import pandas as pd\n",
    "\n",
    "df = pd.DataFrame([[2,6]]*3, columns=['x','y'])\n",
    "df"
   ]
  },
  {
   "cell_type": "code",
   "execution_count": 43,
   "id": "fe774d7c",
   "metadata": {},
   "outputs": [
    {
     "data": {
      "text/html": [
       "<div>\n",
       "<style scoped>\n",
       "    .dataframe tbody tr th:only-of-type {\n",
       "        vertical-align: middle;\n",
       "    }\n",
       "\n",
       "    .dataframe tbody tr th {\n",
       "        vertical-align: top;\n",
       "    }\n",
       "\n",
       "    .dataframe thead th {\n",
       "        text-align: right;\n",
       "    }\n",
       "</style>\n",
       "<table border=\"1\" class=\"dataframe\">\n",
       "  <thead>\n",
       "    <tr style=\"text-align: right;\">\n",
       "      <th></th>\n",
       "      <th>x</th>\n",
       "      <th>y</th>\n",
       "    </tr>\n",
       "  </thead>\n",
       "  <tbody>\n",
       "    <tr>\n",
       "      <th>0</th>\n",
       "      <td>0.366322</td>\n",
       "      <td>0.812514</td>\n",
       "    </tr>\n",
       "    <tr>\n",
       "      <th>1</th>\n",
       "      <td>0.366322</td>\n",
       "      <td>0.812514</td>\n",
       "    </tr>\n",
       "    <tr>\n",
       "      <th>2</th>\n",
       "      <td>0.366322</td>\n",
       "      <td>0.812514</td>\n",
       "    </tr>\n",
       "  </tbody>\n",
       "</table>\n",
       "</div>"
      ],
      "text/plain": [
       "          x         y\n",
       "0  0.366322  0.812514\n",
       "1  0.366322  0.812514\n",
       "2  0.366322  0.812514"
      ]
     },
     "execution_count": 43,
     "metadata": {},
     "output_type": "execute_result"
    }
   ],
   "source": [
    "import pandas as pd\n",
    "import numpy as np\n",
    "\n",
    "df = pd.DataFrame([[np.random.rand(),np.random.rand()]]*3,columns=['x','y'])\n",
    "df"
   ]
  },
  {
   "cell_type": "markdown",
   "id": "40b0a181",
   "metadata": {},
   "source": [
    "### 8.8 MÉTODO APPLY"
   ]
  },
  {
   "cell_type": "code",
   "execution_count": 45,
   "id": "1f703eed",
   "metadata": {},
   "outputs": [
    {
     "data": {
      "text/html": [
       "<div>\n",
       "<style scoped>\n",
       "    .dataframe tbody tr th:only-of-type {\n",
       "        vertical-align: middle;\n",
       "    }\n",
       "\n",
       "    .dataframe tbody tr th {\n",
       "        vertical-align: top;\n",
       "    }\n",
       "\n",
       "    .dataframe thead th {\n",
       "        text-align: right;\n",
       "    }\n",
       "</style>\n",
       "<table border=\"1\" class=\"dataframe\">\n",
       "  <thead>\n",
       "    <tr style=\"text-align: right;\">\n",
       "      <th></th>\n",
       "      <th>x</th>\n",
       "      <th>y</th>\n",
       "    </tr>\n",
       "  </thead>\n",
       "  <tbody>\n",
       "    <tr>\n",
       "      <th>0</th>\n",
       "      <td>20</td>\n",
       "      <td>5</td>\n",
       "    </tr>\n",
       "    <tr>\n",
       "      <th>1</th>\n",
       "      <td>20</td>\n",
       "      <td>5</td>\n",
       "    </tr>\n",
       "    <tr>\n",
       "      <th>2</th>\n",
       "      <td>20</td>\n",
       "      <td>5</td>\n",
       "    </tr>\n",
       "  </tbody>\n",
       "</table>\n",
       "</div>"
      ],
      "text/plain": [
       "    x  y\n",
       "0  20  5\n",
       "1  20  5\n",
       "2  20  5"
      ]
     },
     "execution_count": 45,
     "metadata": {},
     "output_type": "execute_result"
    }
   ],
   "source": [
    "import pandas as pd\n",
    "import numpy as np\n",
    "\n",
    "df = pd.DataFrame([[20,5]]*3,columns=['x','y'])\n",
    "df"
   ]
  },
  {
   "cell_type": "code",
   "execution_count": 46,
   "id": "40557528",
   "metadata": {},
   "outputs": [
    {
     "data": {
      "text/html": [
       "<div>\n",
       "<style scoped>\n",
       "    .dataframe tbody tr th:only-of-type {\n",
       "        vertical-align: middle;\n",
       "    }\n",
       "\n",
       "    .dataframe tbody tr th {\n",
       "        vertical-align: top;\n",
       "    }\n",
       "\n",
       "    .dataframe thead th {\n",
       "        text-align: right;\n",
       "    }\n",
       "</style>\n",
       "<table border=\"1\" class=\"dataframe\">\n",
       "  <thead>\n",
       "    <tr style=\"text-align: right;\">\n",
       "      <th></th>\n",
       "      <th>x</th>\n",
       "      <th>y</th>\n",
       "    </tr>\n",
       "  </thead>\n",
       "  <tbody>\n",
       "    <tr>\n",
       "      <th>0</th>\n",
       "      <td>4.472136</td>\n",
       "      <td>2.236068</td>\n",
       "    </tr>\n",
       "    <tr>\n",
       "      <th>1</th>\n",
       "      <td>4.472136</td>\n",
       "      <td>2.236068</td>\n",
       "    </tr>\n",
       "    <tr>\n",
       "      <th>2</th>\n",
       "      <td>4.472136</td>\n",
       "      <td>2.236068</td>\n",
       "    </tr>\n",
       "  </tbody>\n",
       "</table>\n",
       "</div>"
      ],
      "text/plain": [
       "          x         y\n",
       "0  4.472136  2.236068\n",
       "1  4.472136  2.236068\n",
       "2  4.472136  2.236068"
      ]
     },
     "execution_count": 46,
     "metadata": {},
     "output_type": "execute_result"
    }
   ],
   "source": [
    "res = df.apply(np.sqrt)\n",
    "res"
   ]
  },
  {
   "cell_type": "code",
   "execution_count": 47,
   "id": "12bfab57",
   "metadata": {},
   "outputs": [
    {
     "data": {
      "text/plain": [
       "x    60\n",
       "y    15\n",
       "dtype: int64"
      ]
     },
     "execution_count": 47,
     "metadata": {},
     "output_type": "execute_result"
    }
   ],
   "source": [
    "res2 = df.apply(np.sum)\n",
    "res2"
   ]
  },
  {
   "cell_type": "code",
   "execution_count": 48,
   "id": "de7c7dfd",
   "metadata": {},
   "outputs": [
    {
     "data": {
      "text/plain": [
       "0    25\n",
       "1    25\n",
       "2    25\n",
       "dtype: int64"
      ]
     },
     "execution_count": 48,
     "metadata": {},
     "output_type": "execute_result"
    }
   ],
   "source": [
    "res3 = df.apply(np.sum, axis=1)\n",
    "res3"
   ]
  },
  {
   "cell_type": "code",
   "execution_count": 49,
   "id": "3b8a9592",
   "metadata": {},
   "outputs": [
    {
     "data": {
      "text/html": [
       "<div>\n",
       "<style scoped>\n",
       "    .dataframe tbody tr th:only-of-type {\n",
       "        vertical-align: middle;\n",
       "    }\n",
       "\n",
       "    .dataframe tbody tr th {\n",
       "        vertical-align: top;\n",
       "    }\n",
       "\n",
       "    .dataframe thead th {\n",
       "        text-align: right;\n",
       "    }\n",
       "</style>\n",
       "<table border=\"1\" class=\"dataframe\">\n",
       "  <thead>\n",
       "    <tr style=\"text-align: right;\">\n",
       "      <th></th>\n",
       "      <th>x</th>\n",
       "      <th>y</th>\n",
       "      <th>c</th>\n",
       "    </tr>\n",
       "  </thead>\n",
       "  <tbody>\n",
       "    <tr>\n",
       "      <th>0</th>\n",
       "      <td>20</td>\n",
       "      <td>5</td>\n",
       "      <td>25</td>\n",
       "    </tr>\n",
       "    <tr>\n",
       "      <th>1</th>\n",
       "      <td>20</td>\n",
       "      <td>5</td>\n",
       "      <td>25</td>\n",
       "    </tr>\n",
       "    <tr>\n",
       "      <th>2</th>\n",
       "      <td>20</td>\n",
       "      <td>5</td>\n",
       "      <td>25</td>\n",
       "    </tr>\n",
       "  </tbody>\n",
       "</table>\n",
       "</div>"
      ],
      "text/plain": [
       "    x  y   c\n",
       "0  20  5  25\n",
       "1  20  5  25\n",
       "2  20  5  25"
      ]
     },
     "execution_count": 49,
     "metadata": {},
     "output_type": "execute_result"
    }
   ],
   "source": [
    "df['c'] = df.apply(np.sum, axis=1)\n",
    "df"
   ]
  },
  {
   "cell_type": "markdown",
   "id": "f4dd64e2",
   "metadata": {},
   "source": [
    "### FUNÇÃO LAMBDA DO DATAFRAME"
   ]
  },
  {
   "cell_type": "code",
   "execution_count": 50,
   "id": "554f420d",
   "metadata": {},
   "outputs": [
    {
     "data": {
      "text/html": [
       "<div>\n",
       "<style scoped>\n",
       "    .dataframe tbody tr th:only-of-type {\n",
       "        vertical-align: middle;\n",
       "    }\n",
       "\n",
       "    .dataframe tbody tr th {\n",
       "        vertical-align: top;\n",
       "    }\n",
       "\n",
       "    .dataframe thead th {\n",
       "        text-align: right;\n",
       "    }\n",
       "</style>\n",
       "<table border=\"1\" class=\"dataframe\">\n",
       "  <thead>\n",
       "    <tr style=\"text-align: right;\">\n",
       "      <th></th>\n",
       "      <th>x</th>\n",
       "      <th>y</th>\n",
       "    </tr>\n",
       "  </thead>\n",
       "  <tbody>\n",
       "    <tr>\n",
       "      <th>0</th>\n",
       "      <td>2</td>\n",
       "      <td>3</td>\n",
       "    </tr>\n",
       "    <tr>\n",
       "      <th>1</th>\n",
       "      <td>-1</td>\n",
       "      <td>3</td>\n",
       "    </tr>\n",
       "    <tr>\n",
       "      <th>2</th>\n",
       "      <td>5</td>\n",
       "      <td>2</td>\n",
       "    </tr>\n",
       "  </tbody>\n",
       "</table>\n",
       "</div>"
      ],
      "text/plain": [
       "   x  y\n",
       "0  2  3\n",
       "1 -1  3\n",
       "2  5  2"
      ]
     },
     "execution_count": 50,
     "metadata": {},
     "output_type": "execute_result"
    }
   ],
   "source": [
    "import pandas as pd\n",
    "\n",
    "df = pd.DataFrame([[2,3],[-1,3],[5,2]],columns=['x','y'])\n",
    "df"
   ]
  },
  {
   "cell_type": "code",
   "execution_count": 52,
   "id": "272a9dd6",
   "metadata": {},
   "outputs": [
    {
     "data": {
      "text/html": [
       "<div>\n",
       "<style scoped>\n",
       "    .dataframe tbody tr th:only-of-type {\n",
       "        vertical-align: middle;\n",
       "    }\n",
       "\n",
       "    .dataframe tbody tr th {\n",
       "        vertical-align: top;\n",
       "    }\n",
       "\n",
       "    .dataframe thead th {\n",
       "        text-align: right;\n",
       "    }\n",
       "</style>\n",
       "<table border=\"1\" class=\"dataframe\">\n",
       "  <thead>\n",
       "    <tr style=\"text-align: right;\">\n",
       "      <th></th>\n",
       "      <th>x</th>\n",
       "      <th>y</th>\n",
       "      <th>z</th>\n",
       "    </tr>\n",
       "  </thead>\n",
       "  <tbody>\n",
       "    <tr>\n",
       "      <th>0</th>\n",
       "      <td>2</td>\n",
       "      <td>3</td>\n",
       "      <td>3</td>\n",
       "    </tr>\n",
       "    <tr>\n",
       "      <th>1</th>\n",
       "      <td>-1</td>\n",
       "      <td>3</td>\n",
       "      <td>0</td>\n",
       "    </tr>\n",
       "    <tr>\n",
       "      <th>2</th>\n",
       "      <td>5</td>\n",
       "      <td>2</td>\n",
       "      <td>6</td>\n",
       "    </tr>\n",
       "  </tbody>\n",
       "</table>\n",
       "</div>"
      ],
      "text/plain": [
       "   x  y  z\n",
       "0  2  3  3\n",
       "1 -1  3  0\n",
       "2  5  2  6"
      ]
     },
     "execution_count": 52,
     "metadata": {},
     "output_type": "execute_result"
    }
   ],
   "source": [
    "df['z'] = df['x'].apply(lambda x:x+1)\n",
    "df"
   ]
  },
  {
   "cell_type": "code",
   "execution_count": 53,
   "id": "65b189fb",
   "metadata": {},
   "outputs": [
    {
     "data": {
      "text/html": [
       "<div>\n",
       "<style scoped>\n",
       "    .dataframe tbody tr th:only-of-type {\n",
       "        vertical-align: middle;\n",
       "    }\n",
       "\n",
       "    .dataframe tbody tr th {\n",
       "        vertical-align: top;\n",
       "    }\n",
       "\n",
       "    .dataframe thead th {\n",
       "        text-align: right;\n",
       "    }\n",
       "</style>\n",
       "<table border=\"1\" class=\"dataframe\">\n",
       "  <thead>\n",
       "    <tr style=\"text-align: right;\">\n",
       "      <th></th>\n",
       "      <th>x</th>\n",
       "      <th>y</th>\n",
       "      <th>z</th>\n",
       "    </tr>\n",
       "  </thead>\n",
       "  <tbody>\n",
       "    <tr>\n",
       "      <th>0</th>\n",
       "      <td>3</td>\n",
       "      <td>4</td>\n",
       "      <td>4</td>\n",
       "    </tr>\n",
       "    <tr>\n",
       "      <th>1</th>\n",
       "      <td>0</td>\n",
       "      <td>4</td>\n",
       "      <td>1</td>\n",
       "    </tr>\n",
       "    <tr>\n",
       "      <th>2</th>\n",
       "      <td>6</td>\n",
       "      <td>3</td>\n",
       "      <td>7</td>\n",
       "    </tr>\n",
       "  </tbody>\n",
       "</table>\n",
       "</div>"
      ],
      "text/plain": [
       "   x  y  z\n",
       "0  3  4  4\n",
       "1  0  4  1\n",
       "2  6  3  7"
      ]
     },
     "execution_count": 53,
     "metadata": {},
     "output_type": "execute_result"
    }
   ],
   "source": [
    "df = df.apply(lambda x:x+1)\n",
    "df"
   ]
  },
  {
   "cell_type": "code",
   "execution_count": 56,
   "id": "d269a5d7",
   "metadata": {},
   "outputs": [
    {
     "data": {
      "text/html": [
       "<div>\n",
       "<style scoped>\n",
       "    .dataframe tbody tr th:only-of-type {\n",
       "        vertical-align: middle;\n",
       "    }\n",
       "\n",
       "    .dataframe tbody tr th {\n",
       "        vertical-align: top;\n",
       "    }\n",
       "\n",
       "    .dataframe thead th {\n",
       "        text-align: right;\n",
       "    }\n",
       "</style>\n",
       "<table border=\"1\" class=\"dataframe\">\n",
       "  <thead>\n",
       "    <tr style=\"text-align: right;\">\n",
       "      <th></th>\n",
       "      <th>x</th>\n",
       "      <th>y</th>\n",
       "    </tr>\n",
       "  </thead>\n",
       "  <tbody>\n",
       "    <tr>\n",
       "      <th>0</th>\n",
       "      <td>20</td>\n",
       "      <td>3</td>\n",
       "    </tr>\n",
       "    <tr>\n",
       "      <th>1</th>\n",
       "      <td>-10</td>\n",
       "      <td>23</td>\n",
       "    </tr>\n",
       "    <tr>\n",
       "      <th>2</th>\n",
       "      <td>115</td>\n",
       "      <td>22</td>\n",
       "    </tr>\n",
       "  </tbody>\n",
       "</table>\n",
       "</div>"
      ],
      "text/plain": [
       "     x   y\n",
       "0   20   3\n",
       "1  -10  23\n",
       "2  115  22"
      ]
     },
     "execution_count": 56,
     "metadata": {},
     "output_type": "execute_result"
    }
   ],
   "source": [
    "# EXEMPLO 8.3\n",
    "import pandas as pd\n",
    "\n",
    "df = pd.DataFrame([[20,3],[-10,23],[115,22]], columns=['x','y'])\n",
    "df"
   ]
  },
  {
   "cell_type": "code",
   "execution_count": 57,
   "id": "4855ecc7",
   "metadata": {},
   "outputs": [
    {
     "data": {
      "text/html": [
       "<div>\n",
       "<style scoped>\n",
       "    .dataframe tbody tr th:only-of-type {\n",
       "        vertical-align: middle;\n",
       "    }\n",
       "\n",
       "    .dataframe tbody tr th {\n",
       "        vertical-align: top;\n",
       "    }\n",
       "\n",
       "    .dataframe thead th {\n",
       "        text-align: right;\n",
       "    }\n",
       "</style>\n",
       "<table border=\"1\" class=\"dataframe\">\n",
       "  <thead>\n",
       "    <tr style=\"text-align: right;\">\n",
       "      <th></th>\n",
       "      <th>x</th>\n",
       "      <th>y</th>\n",
       "    </tr>\n",
       "  </thead>\n",
       "  <tbody>\n",
       "    <tr>\n",
       "      <th>0</th>\n",
       "      <td>-0.332026</td>\n",
       "      <td>-1.153563</td>\n",
       "    </tr>\n",
       "    <tr>\n",
       "      <th>1</th>\n",
       "      <td>-0.791755</td>\n",
       "      <td>0.621150</td>\n",
       "    </tr>\n",
       "    <tr>\n",
       "      <th>2</th>\n",
       "      <td>1.123781</td>\n",
       "      <td>0.532414</td>\n",
       "    </tr>\n",
       "  </tbody>\n",
       "</table>\n",
       "</div>"
      ],
      "text/plain": [
       "          x         y\n",
       "0 -0.332026 -1.153563\n",
       "1 -0.791755  0.621150\n",
       "2  1.123781  0.532414"
      ]
     },
     "execution_count": 57,
     "metadata": {},
     "output_type": "execute_result"
    }
   ],
   "source": [
    "# CONTINUAÇÃO DO EXEMPLO 8.3\n",
    "z_normal = lambda x: (x - x.mean())/x.std()\n",
    "\n",
    "df = df.apply(z_normal)\n",
    "df"
   ]
  },
  {
   "cell_type": "markdown",
   "id": "6cb6ad98",
   "metadata": {},
   "source": [
    "### 8.10 RETORNO FINANCEIRO NO DATAFRAME"
   ]
  },
  {
   "cell_type": "code",
   "execution_count": 58,
   "id": "43b10536",
   "metadata": {},
   "outputs": [
    {
     "name": "stdout",
     "output_type": "stream",
     "text": [
      "          0\n",
      "0       NaN\n",
      "1  0.009901\n",
      "2 -0.009804\n",
      "3 -0.029703\n",
      "4 -0.010204\n",
      "5  0.020619\n",
      "6  0.030303\n",
      "7  0.029412\n",
      "8 -0.038095\n",
      "9  0.019802\n"
     ]
    }
   ],
   "source": [
    "# EXEMPLO 8.4\n",
    "import pandas as pd\n",
    "\n",
    "df = pd.DataFrame([10.1,10.2,10.1,9.8,9.7,9.9,10.2,10.5,10.1,10.3])\n",
    "\n",
    "ret_diario = df.pct_change(1) # para um dia de intervalo\n",
    "\n",
    "print(ret_diario)"
   ]
  },
  {
   "cell_type": "code",
   "execution_count": 59,
   "id": "5776af63",
   "metadata": {},
   "outputs": [
    {
     "data": {
      "text/plain": [
       "<AxesSubplot:>"
      ]
     },
     "execution_count": 59,
     "metadata": {},
     "output_type": "execute_result"
    },
    {
     "data": {
      "image/png": "[encoded data removed]",
      "text/plain": [
       "<Figure size 640x480 with 1 Axes>"
      ]
     },
     "metadata": {},
     "output_type": "display_data"
    }
   ],
   "source": [
    "ret_diario.plot.line(color='k')"
   ]
  },
  {
   "cell_type": "code",
   "execution_count": 80,
   "id": "2b498757",
   "metadata": {},
   "outputs": [
    {
     "data": {
      "text/html": [
       "<div>\n",
       "<style scoped>\n",
       "    .dataframe tbody tr th:only-of-type {\n",
       "        vertical-align: middle;\n",
       "    }\n",
       "\n",
       "    .dataframe tbody tr th {\n",
       "        vertical-align: top;\n",
       "    }\n",
       "\n",
       "    .dataframe thead th {\n",
       "        text-align: right;\n",
       "    }\n",
       "</style>\n",
       "<table border=\"1\" class=\"dataframe\">\n",
       "  <thead>\n",
       "    <tr style=\"text-align: right;\">\n",
       "      <th></th>\n",
       "      <th>DATA</th>\n",
       "      <th>ABERTURA</th>\n",
       "      <th>FECHAMENTO</th>\n",
       "      <th>VARIACAO</th>\n",
       "      <th>MINIMO</th>\n",
       "      <th>MAXIMO</th>\n",
       "      <th>VOLUME</th>\n",
       "      <th>med_mov</th>\n",
       "    </tr>\n",
       "  </thead>\n",
       "  <tbody>\n",
       "    <tr>\n",
       "      <th>248</th>\n",
       "      <td>2008-01-02</td>\n",
       "      <td>63885</td>\n",
       "      <td>62815</td>\n",
       "      <td>-1,68</td>\n",
       "      <td>62659</td>\n",
       "      <td>63906</td>\n",
       "      <td>4,46B</td>\n",
       "      <td>62815.0</td>\n",
       "    </tr>\n",
       "    <tr>\n",
       "      <th>247</th>\n",
       "      <td>2008-01-03</td>\n",
       "      <td>62799</td>\n",
       "      <td>62892</td>\n",
       "      <td>0,12</td>\n",
       "      <td>62556</td>\n",
       "      <td>63129</td>\n",
       "      <td>4,25B</td>\n",
       "      <td>62853.5</td>\n",
       "    </tr>\n",
       "    <tr>\n",
       "      <th>246</th>\n",
       "      <td>2008-01-04</td>\n",
       "      <td>62898</td>\n",
       "      <td>61037</td>\n",
       "      <td>-2,95</td>\n",
       "      <td>60574</td>\n",
       "      <td>63436</td>\n",
       "      <td>5,54B</td>\n",
       "      <td>62248.0</td>\n",
       "    </tr>\n",
       "  </tbody>\n",
       "</table>\n",
       "</div>"
      ],
      "text/plain": [
       "          DATA  ABERTURA  FECHAMENTO VARIACAO  MINIMO  MAXIMO VOLUME  med_mov\n",
       "248 2008-01-02     63885       62815    -1,68   62659   63906  4,46B  62815.0\n",
       "247 2008-01-03     62799       62892     0,12   62556   63129  4,25B  62853.5\n",
       "246 2008-01-04     62898       61037    -2,95   60574   63436  5,54B  62248.0"
      ]
     },
     "execution_count": 80,
     "metadata": {},
     "output_type": "execute_result"
    }
   ],
   "source": [
    "# EXEMPLO 8.5 - NESTE CASO, OS NOMES DAS COLUNAS FORAM MANTIDOS\n",
    "import pandas as pd\n",
    "\n",
    "df_ibov = pd.read_excel('dados/IBOV_2008.xlsx', sheet_name='IBOV_2008')\n",
    "# a planilha não estava ordenada pela data, dei o comando para ordenar pela data (sort_values), o comando\n",
    "# \"inplace=True\" é para aplicar em tempo real no DataFrame\n",
    "df_ibov.sort_values(by='DATA', inplace=True)\n",
    "\n",
    "df_ibov['med_mov'] = df_ibov['FECHAMENTO'].rolling(window=30, min_periods=0).mean()\n",
    "\n",
    "df_ibov.head(n=3)"
   ]
  },
  {
   "cell_type": "code",
   "execution_count": 81,
   "id": "b6acaed4",
   "metadata": {},
   "outputs": [
    {
     "data": {
      "text/plain": [
       "<AxesSubplot:xlabel='DATA'>"
      ]
     },
     "execution_count": 81,
     "metadata": {},
     "output_type": "execute_result"
    },
    {
     "data": {
      "image/png": "[encoded data removed]",
      "text/plain": [
       "<Figure size 640x480 with 1 Axes>"
      ]
     },
     "metadata": {},
     "output_type": "display_data"
    }
   ],
   "source": [
    "df = df_ibov[['DATA','FECHAMENTO','med_mov']]\n",
    "df.plot.line(x='DATA', color='k')"
   ]
  },
  {
   "cell_type": "code",
   "execution_count": 84,
   "id": "e1ffe195",
   "metadata": {},
   "outputs": [
    {
     "name": "stderr",
     "output_type": "stream",
     "text": [
      "/tmp/ipykernel_1568/2202104357.py:2: SettingWithCopyWarning: \n",
      "A value is trying to be set on a copy of a slice from a DataFrame.\n",
      "Try using .loc[row_indexer,col_indexer] = value instead\n",
      "\n",
      "See the caveats in the documentation: https://pandas.pydata.org/pandas-docs/stable/user_guide/indexing.html#returning-a-view-versus-a-copy\n",
      "  df['retorno'] = df['FECHAMENTO'].pct_change(1) # para um dia de intervalo\n"
     ]
    },
    {
     "data": {
      "text/plain": [
       "array([[<AxesSubplot:xlabel='DATA'>],\n",
       "       [<AxesSubplot:xlabel='DATA'>],\n",
       "       [<AxesSubplot:xlabel='DATA'>]], dtype=object)"
      ]
     },
     "execution_count": 84,
     "metadata": {},
     "output_type": "execute_result"
    },
    {
     "data": {
      "image/png": "[encoded data removed]",
      "text/plain": [
       "<Figure size 640x480 with 3 Axes>"
      ]
     },
     "metadata": {},
     "output_type": "display_data"
    }
   ],
   "source": [
    "# EXEMPLO 8.6\n",
    "df['retorno'] = df['FECHAMENTO'].pct_change(1) # para um dia de intervalo\n",
    "df.plot.line(x='DATA', y=['FECHAMENTO','med_mov','retorno'], subplots=True, layout=(3,1), color='k')"
   ]
  }
 ],
 "metadata": {
  "kernelspec": {
   "display_name": "Python 3 (ipykernel)",
   "language": "python",
   "name": "python3"
  },
  "language_info": {
   "codemirror_mode": {
    "name": "ipython",
    "version": 3
   },
   "file_extension": ".py",
   "mimetype": "text/x-python",
   "name": "python",
   "nbconvert_exporter": "python",
   "pygments_lexer": "ipython3",
   "version": "3.9.9"
  }
 },
 "nbformat": 4,
 "nbformat_minor": 5
}
