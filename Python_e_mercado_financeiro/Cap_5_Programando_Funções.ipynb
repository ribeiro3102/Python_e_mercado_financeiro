{
 "cells": [
  {
   "cell_type": "code",
   "execution_count": 1,
   "id": "a992c505",
   "metadata": {},
   "outputs": [
    {
     "name": "stdout",
     "output_type": "stream",
     "text": [
      "Eu venho do(a) Brasil\n",
      "Eu venho do(a) França\n",
      "Eu venho do(a) Peru\n"
     ]
    }
   ],
   "source": [
    "def nacional(pais):\n",
    "    print(\"Eu venho do(a) \" + pais)\n",
    "\n",
    "nacional(\"Brasil\")\n",
    "nacional(\"França\")\n",
    "nacional(\"Peru\")"
   ]
  },
  {
   "cell_type": "code",
   "execution_count": 2,
   "id": "a74d74b5",
   "metadata": {},
   "outputs": [
    {
     "name": "stdout",
     "output_type": "stream",
     "text": [
      "Entre com seu país: Brasil\n",
      "Eu venho do(a) Brasil\n"
     ]
    }
   ],
   "source": [
    "def nacional2(pais):\n",
    "    print(\"Eu venho do(a) \" + pais)\n",
    "\n",
    "local = input(\"Entre com seu país: \")\n",
    "nacional2(local)"
   ]
  },
  {
   "cell_type": "code",
   "execution_count": 3,
   "id": "62e264b2",
   "metadata": {},
   "outputs": [
    {
     "name": "stdout",
     "output_type": "stream",
     "text": [
      "Número de pessoas: 2\n",
      "Entre com seu país: Brasil\n",
      "Eu venho do(a) Brasil\n",
      "Entre com seu país: França\n",
      "Eu venho do(a) França\n"
     ]
    }
   ],
   "source": [
    "def nacional3(pais):\n",
    "    print(\"Eu venho do(a) \" + pais)\n",
    "    \n",
    "n = int(input(\"Número de pessoas: \"))\n",
    "\n",
    "for i in range(n):\n",
    "    local = input(\"Entre com seu país: \")\n",
    "    nacional2(local)"
   ]
  },
  {
   "cell_type": "code",
   "execution_count": 4,
   "id": "ef2d69c1",
   "metadata": {},
   "outputs": [
    {
     "name": "stdout",
     "output_type": "stream",
     "text": [
      "João\n",
      "Maria\n",
      "José\n",
      "Ana\n"
     ]
    }
   ],
   "source": [
    "# Exemplo Listas\n",
    "def imprime(nomes):\n",
    "    for i in nomes:\n",
    "        print(i)\n",
    "\n",
    "nomes=['João','Maria','José','Ana']\n",
    "\n",
    "imprime(nomes)"
   ]
  },
  {
   "cell_type": "code",
   "execution_count": 5,
   "id": "71bb77d7",
   "metadata": {},
   "outputs": [
    {
     "name": "stdout",
     "output_type": "stream",
     "text": [
      "25\n",
      "15\n",
      "40\n",
      "35\n"
     ]
    }
   ],
   "source": [
    "# Exemplo de cálculo\n",
    "def calculo(x):\n",
    "    y=5*x\n",
    "    return(y)\n",
    "\n",
    "print(calculo(5))\n",
    "print(calculo(3))\n",
    "print(calculo(8))\n",
    "print(calculo(7))"
   ]
  },
  {
   "cell_type": "code",
   "execution_count": 6,
   "id": "6b15492e",
   "metadata": {},
   "outputs": [
    {
     "name": "stdout",
     "output_type": "stream",
     "text": [
      "Entre com números: 2\n",
      "par\n"
     ]
    }
   ],
   "source": [
    "# Exemplo Par/Impar\n",
    "\n",
    "def verifica(n):\n",
    "    if n%2 == 0:\n",
    "        print('par')\n",
    "    else:\n",
    "         print('impar')\n",
    "\n",
    "n=int(input(\"Entre com números: \"))\n",
    "\n",
    "verifica(n)"
   ]
  },
  {
   "cell_type": "code",
   "execution_count": 1,
   "id": "2221d0a3",
   "metadata": {},
   "outputs": [
    {
     "name": "stdout",
     "output_type": "stream",
     "text": [
      "25\n"
     ]
    }
   ],
   "source": [
    "# Exemplo Par/Impar\n",
    "def calculo(x):\n",
    "    y=5*x\n",
    "    return y\n",
    "\n",
    "#=======================\n",
    "a = calculo(5)\n",
    "print(a)"
   ]
  },
  {
   "cell_type": "code",
   "execution_count": 2,
   "id": "598b8620",
   "metadata": {},
   "outputs": [
    {
     "name": "stdout",
     "output_type": "stream",
     "text": [
      "Entre com a população: 12400000\n",
      "métropole\n"
     ]
    }
   ],
   "source": [
    "# Criando functions\n",
    "\n",
    "def cidade(tam):\n",
    "    if(tam <= 30000):\n",
    "        return 'pequena'\n",
    "    elif(tam > 30000)and(tam <= 150000):\n",
    "        return 'média'\n",
    "    elif(tam > 150000)and(tam <= 600000):\n",
    "        return 'grande'\n",
    "    else:\n",
    "        return 'métropole'\n",
    "    \n",
    "tamanho = float(input(\"Entre com a população: \"))\n",
    "\n",
    "a = cidade(tamanho)\n",
    "\n",
    "print(a)"
   ]
  },
  {
   "cell_type": "code",
   "execution_count": 5,
   "id": "c24c6aed",
   "metadata": {},
   "outputs": [
    {
     "name": "stdout",
     "output_type": "stream",
     "text": [
      "Informe a: 1\n",
      "Informe b: -5\n",
      "Informe c: 6\n",
      "(3.0, 2.0)\n"
     ]
    }
   ],
   "source": [
    "# Criando functions\n",
    "import math as mt\n",
    "\n",
    "def delta(a,b,c):\n",
    "    delta = b**2 -4*a*c\n",
    "    if(delta>0):\n",
    "        x1 = (-b+mt.sqrt(delta))/(2*a)\n",
    "        x2 = (-b-mt.sqrt(delta))/(2*a)\n",
    "        return x1,x2\n",
    "    elif (delta ==0):\n",
    "        x1=-b/(2*a)\n",
    "        return x1\n",
    "    else:\n",
    "        return \"Não existem raízes reais\"\n",
    "\n",
    "a = float(input(\"Informe a: \"))\n",
    "b = float(input(\"Informe b: \"))\n",
    "c = float(input(\"Informe c: \"))\n",
    "resp = delta(a,b,c)\n",
    "print(resp)"
   ]
  },
  {
   "cell_type": "code",
   "execution_count": 6,
   "id": "d0addc04",
   "metadata": {},
   "outputs": [
    {
     "name": "stdout",
     "output_type": "stream",
     "text": [
      "Média:  3.090909090909091  e desvio padrão =  2.7120788891229632\n"
     ]
    }
   ],
   "source": [
    "# Programa principal para chamar função externa - Usei o nome de funcoes.py ao invés do sugerido pelo autor (Bib)\n",
    "import funcoes as fc\n",
    "\n",
    "numeros = [1,10,3,2,1,5,5,4,0,1,2]\n",
    "resp1 = fc.media(numeros)\n",
    "resp2 = fc.desvio(numeros)\n",
    "\n",
    "print(\"Média: \", resp1, \" e desvio padrão = \", resp2)"
   ]
  }
 ],
 "metadata": {
  "kernelspec": {
   "display_name": "Python 3 (ipykernel)",
   "language": "python",
   "name": "python3"
  },
  "language_info": {
   "codemirror_mode": {
    "name": "ipython",
    "version": 3
   },
   "file_extension": ".py",
   "mimetype": "text/x-python",
   "name": "python",
   "nbconvert_exporter": "python",
   "pygments_lexer": "ipython3",
   "version": "3.9.9"
  }
 },
 "nbformat": 4,
 "nbformat_minor": 5
}
